{
  "nbformat": 4,
  "nbformat_minor": 0,
  "metadata": {
    "colab": {
      "name": "cnn.ipynb",
      "provenance": [],
      "authorship_tag": "ABX9TyMV46jylcs8Uk9mS/88s+fY",
      "include_colab_link": true
    },
    "kernelspec": {
      "name": "python3",
      "display_name": "Python 3"
    },
    "language_info": {
      "name": "python"
    }
  },
  "cells": [
    {
      "cell_type": "markdown",
      "metadata": {
        "id": "view-in-github",
        "colab_type": "text"
      },
      "source": [
        "<a href=\"https://colab.research.google.com/github/welting82/AIclass/blob/main/cnn.ipynb\" target=\"_parent\"><img src=\"https://colab.research.google.com/assets/colab-badge.svg\" alt=\"Open In Colab\"/></a>"
      ]
    },
    {
      "cell_type": "code",
      "execution_count": 1,
      "metadata": {
        "colab": {
          "base_uri": "https://localhost:8080/"
        },
        "id": "4lsGG7Mrj5ON",
        "outputId": "c5ab9cf8-f27d-4a7f-f394-05a5618a4cf6"
      },
      "outputs": [
        {
          "output_type": "stream",
          "name": "stdout",
          "text": [
            "Downloading data from https://www.cs.toronto.edu/~kriz/cifar-10-python.tar.gz\n",
            "170500096/170498071 [==============================] - 11s 0us/step\n",
            "170508288/170498071 [==============================] - 11s 0us/step\n"
          ]
        }
      ],
      "source": [
        "from tensorflow.keras.datasets.cifar10 import load_data\n",
        "(x_train, y_train), (x_test, y_test) = load_data()"
      ]
    },
    {
      "cell_type": "code",
      "source": [
        "print(x_train.shape)\n",
        "print(y_train.shape)\n",
        "print(x_test.shape)\n",
        "print(y_test.shape)"
      ],
      "metadata": {
        "colab": {
          "base_uri": "https://localhost:8080/"
        },
        "id": "sqhOb0-mzc6A",
        "outputId": "00252e66-05af-46af-a50c-8047d3d792a6"
      },
      "execution_count": 2,
      "outputs": [
        {
          "output_type": "stream",
          "name": "stdout",
          "text": [
            "(50000, 32, 32, 3)\n",
            "(50000, 1)\n",
            "(10000, 32, 32, 3)\n",
            "(10000, 1)\n"
          ]
        }
      ]
    },
    {
      "cell_type": "code",
      "source": [
        "trans = [\"airplane\",\t\t\t\t\t\t\t\t\n",
        "  \"automobile\",\t\t\t\t\t\t\t\n",
        "  \"bird\",\t\t\t\t\t\t\t\t\n",
        "  \"cat\",\t\t\t\t\t\t\t\n",
        "  \"deer\",\t\t\t\t\t\t\t\t\n",
        "  \"dog\",\t\t\t\t\t\t\t\n",
        "  \"frog\",\t\t\t\t\t\t\t\t\n",
        "  \"horse\",\t\t\t\t\t\t\t\t\t\n",
        "  \"ship\",\t\t\t\t\t\t\t\t\t\n",
        "  \"truck\",\n",
        "  ]"
      ],
      "metadata": {
        "id": "3_-Z9v2T0tWl"
      },
      "execution_count": 7,
      "outputs": []
    },
    {
      "cell_type": "code",
      "source": [
        "import matplotlib.pyplot as plt\n",
        "idx = 1000\n",
        "plt.imshow(x_train[idx])\n",
        "print(trans[y_train[idx][0]])"
      ],
      "metadata": {
        "colab": {
          "base_uri": "https://localhost:8080/",
          "height": 283
        },
        "id": "3vNP2I0K0VXX",
        "outputId": "dc60ba7f-0b9e-47bb-d963-3b8ac98e4d69"
      },
      "execution_count": 11,
      "outputs": [
        {
          "output_type": "stream",
          "name": "stdout",
          "text": [
            "truck\n"
          ]
        },
        {
          "output_type": "display_data",
          "data": {
            "image/png": "[encoded data removed]",
            "text/plain": [
              "<Figure size 432x288 with 1 Axes>"
            ]
          },
          "metadata": {
            "needs_background": "light"
          }
        }
      ]
    },
    {
      "cell_type": "code",
      "source": [
        "from tensorflow.keras.models import Sequential\n",
        "from tensorflow.keras.layers import Conv2D, MaxPooling2D\n",
        "from tensorflow.keras.layers import Dense, Flatten\n",
        "layers = [\n",
        "      Conv2D(64, 3, padding=\"same\", activation=\"relu\", input_shape=(32,32,3))\n",
        "      \n",
        "      Conv2D(64, 3, padding=\"same\", activation=\"relu\", input_shape=(32,32,3))\n",
        "]"
      ],
      "metadata": {
        "id": "bdKJT0OQ3RV9"
      },
      "execution_count": null,
      "outputs": []
    }
  ]
}