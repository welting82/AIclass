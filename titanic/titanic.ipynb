{
  "nbformat": 4,
  "nbformat_minor": 0,
  "metadata": {
    "colab": {
      "name": "titanic.ipynb",
      "provenance": [],
      "collapsed_sections": [],
      "authorship_tag": "ABX9TyPX9zSCLT8Oe7m71COEZIok",
      "include_colab_link": true
    },
    "kernelspec": {
      "name": "python3",
      "display_name": "Python 3"
    },
    "language_info": {
      "name": "python"
    }
  },
  "cells": [
    {
      "cell_type": "markdown",
      "metadata": {
        "id": "view-in-github",
        "colab_type": "text"
      },
      "source": [
        "<a href=\"https://colab.research.google.com/github/welting82/AIclass/blob/main/titanic/titanic.ipynb\" target=\"_parent\"><img src=\"https://colab.research.google.com/assets/colab-badge.svg\" alt=\"Open In Colab\"/></a>"
      ]
    },
    {
      "cell_type": "code",
      "metadata": {
        "colab": {
          "base_uri": "https://localhost:8080/"
        },
        "id": "GqBKHuMhzi3W",
        "outputId": "c58523e9-2d41-414e-d85b-0b96f33caf15"
      },
      "source": [
        "from urllib.request import urlretrieve\n",
        "url = \"https://github.com/welting82/AIclass/raw/main/titanic/test.csv\"\n",
        "urlretrieve(url, \"test.csv\")\n",
        "url = \"https://github.com/welting82/AIclass/raw/main/titanic/train.csv\"\n",
        "urlretrieve(url, \"train.csv\")"
      ],
      "execution_count": 25,
      "outputs": [
        {
          "output_type": "execute_result",
          "data": {
            "text/plain": [
              "('train.csv', <http.client.HTTPMessage at 0x7fb7f72d5b90>)"
            ]
          },
          "metadata": {},
          "execution_count": 25
        }
      ]
    }
  ]
}